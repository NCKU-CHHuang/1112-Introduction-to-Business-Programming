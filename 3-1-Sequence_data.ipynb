{
 "cells": [
  {
   "cell_type": "markdown",
   "id": "0c5eb073",
   "metadata": {},
   "source": [
    "# Sequence Data Type"
   ]
  },
  {
   "cell_type": "markdown",
   "id": "c5bc94e0",
   "metadata": {},
   "source": [
    "## List"
   ]
  },
  {
   "cell_type": "markdown",
   "id": "c9b85a5c",
   "metadata": {},
   "source": [
    "The list is the sole mutable data type in the sequential category. It can store any data type's values or components. "
   ]
  },
  {
   "cell_type": "code",
   "execution_count": null,
   "id": "4eb8b1a4",
   "metadata": {},
   "outputs": [],
   "source": [
    "grades = [98,97,80,66,77,99]\n",
    "print(grades)"
   ]
  },
  {
   "cell_type": "code",
   "execution_count": null,
   "id": "79fae635",
   "metadata": {},
   "outputs": [],
   "source": [
    "print(grades[0])"
   ]
  },
  {
   "cell_type": "markdown",
   "id": "403ec8ad",
   "metadata": {},
   "source": [
    "To change the value of a specific item, refer to the index number:"
   ]
  },
  {
   "cell_type": "code",
   "execution_count": null,
   "id": "de1d6fff",
   "metadata": {},
   "outputs": [],
   "source": [
    "grades[1] = 100  \n",
    "print(grades)"
   ]
  },
  {
   "cell_type": "markdown",
   "id": "151dda77",
   "metadata": {},
   "source": [
    "<b>Append Items:</b> To add an item to the end of the list, use the append() method:"
   ]
  },
  {
   "cell_type": "code",
   "execution_count": null,
   "id": "8a9d10c1",
   "metadata": {},
   "outputs": [],
   "source": [
    "grades.append(96)\n",
    "print(grades)"
   ]
  },
  {
   "cell_type": "markdown",
   "id": "22feda55",
   "metadata": {},
   "source": [
    "<b>Insert Items:</b> To insert a list item at a specified index, use the insert() method."
   ]
  },
  {
   "cell_type": "code",
   "execution_count": null,
   "id": "65d92bcf",
   "metadata": {},
   "outputs": [],
   "source": [
    "grades.insert(2,86)\n",
    "print(grades)"
   ]
  },
  {
   "cell_type": "markdown",
   "id": "d600f1f3",
   "metadata": {},
   "source": [
    "<b>Remove Specified Item:</b> removes the specified item"
   ]
  },
  {
   "cell_type": "code",
   "execution_count": null,
   "id": "1abfec84",
   "metadata": {},
   "outputs": [],
   "source": [
    "grades.remove(66)\n",
    "print(grades)"
   ]
  },
  {
   "cell_type": "markdown",
   "id": "6e406133",
   "metadata": {},
   "source": [
    "<b>Remove Specified Index:</b> removes the specified index."
   ]
  },
  {
   "cell_type": "code",
   "execution_count": null,
   "id": "c80c14f8",
   "metadata": {},
   "outputs": [],
   "source": [
    "grades.pop(1)\n",
    "print(grades)"
   ]
  },
  {
   "cell_type": "markdown",
   "id": "3e32b41e",
   "metadata": {},
   "source": [
    "Present the elements from index a to index b"
   ]
  },
  {
   "cell_type": "code",
   "execution_count": null,
   "id": "9148e5f1",
   "metadata": {},
   "outputs": [],
   "source": [
    "print(grades[1:4])"
   ]
  },
  {
   "cell_type": "markdown",
   "id": "eace2772",
   "metadata": {},
   "source": [
    "Clear the elements from index a to index b"
   ]
  },
  {
   "cell_type": "code",
   "execution_count": null,
   "id": "cbd7a7e7",
   "metadata": {},
   "outputs": [],
   "source": [
    "grades[1:4]=[]\n",
    "print(grades)"
   ]
  },
  {
   "cell_type": "markdown",
   "id": "ebea277c",
   "metadata": {},
   "source": [
    "Use the + operator to combine the lists:"
   ]
  },
  {
   "cell_type": "code",
   "execution_count": null,
   "id": "4ed6151c",
   "metadata": {},
   "outputs": [],
   "source": [
    "grades = grades + [55,66]\n",
    "print(grades)"
   ]
  },
  {
   "cell_type": "markdown",
   "id": "c29c8992",
   "metadata": {},
   "source": [
    "returns the number of elements in the list"
   ]
  },
  {
   "cell_type": "code",
   "execution_count": null,
   "id": "72b6e80d",
   "metadata": {},
   "outputs": [],
   "source": [
    "gradeslen = len(grades)\n",
    "print(gradeslen)"
   ]
  },
  {
   "cell_type": "markdown",
   "id": "2bd98c67",
   "metadata": {},
   "source": [
    "### nested lists"
   ]
  },
  {
   "cell_type": "markdown",
   "id": "e5683df7",
   "metadata": {},
   "source": [
    "Creating a nested list"
   ]
  },
  {
   "cell_type": "code",
   "execution_count": null,
   "id": "70065d20",
   "metadata": {},
   "outputs": [],
   "source": [
    "nestedList = [1, 2, ['a', 1], 3]\n",
    "# indexing list: the sublist has now been accessed\n",
    "subList = nestedList[2]\n",
    "\n",
    "# access the first element inside the inner list:\n",
    "element = nestedList[2][0]\n",
    "\n",
    "print(\"List inside the nested list: \", subList)\n",
    "print(\"First element of the sublist: \", element)"
   ]
  },
  {
   "cell_type": "markdown",
   "id": "34f4be7f",
   "metadata": {},
   "source": [
    "## Tuple"
   ]
  },
  {
   "cell_type": "markdown",
   "id": "fda6ec55",
   "metadata": {},
   "source": [
    "If you know that some data doesn't have to be changed, you should use tuples instead of lists, because this protects your data against accidental changes."
   ]
  },
  {
   "cell_type": "code",
   "execution_count": null,
   "id": "00714a87",
   "metadata": {},
   "outputs": [],
   "source": [
    "idnumber=(110123456,110123457,110123458)\n",
    "print(idnumber)"
   ]
  },
  {
   "cell_type": "markdown",
   "id": "b8d27767",
   "metadata": {},
   "source": [
    "## Set"
   ]
  },
  {
   "cell_type": "markdown",
   "id": "a3bcac3e",
   "metadata": {},
   "source": [
    "Membership tests check whether a specific element is contained in a sequence, such as strings, lists, tuples, or sets. "
   ]
  },
  {
   "cell_type": "markdown",
   "id": "d4fd4fe0",
   "metadata": {},
   "source": [
    "I have three courses: 1,2,3"
   ]
  },
  {
   "cell_type": "code",
   "execution_count": null,
   "id": "e5e6c1b1",
   "metadata": {},
   "outputs": [],
   "source": [
    "mycourses = {1,2,3}\n",
    "print(1 in mycourses)\n",
    "print(5 in mycourses)\n",
    "print(5 not in mycourses)"
   ]
  },
  {
   "cell_type": "code",
   "execution_count": null,
   "id": "46337a61",
   "metadata": {},
   "outputs": [],
   "source": []
  }
 ],
 "metadata": {
  "kernelspec": {
   "display_name": "Python 3 (ipykernel)",
   "language": "python",
   "name": "python3"
  },
  "language_info": {
   "codemirror_mode": {
    "name": "ipython",
    "version": 3
   },
   "file_extension": ".py",
   "mimetype": "text/x-python",
   "name": "python",
   "nbconvert_exporter": "python",
   "pygments_lexer": "ipython3",
   "version": "3.9.12"
  }
 },
 "nbformat": 4,
 "nbformat_minor": 5
}
