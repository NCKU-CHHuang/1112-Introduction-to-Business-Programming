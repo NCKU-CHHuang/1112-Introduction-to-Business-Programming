{
 "cells": [
  {
   "cell_type": "markdown",
   "id": "b551842a",
   "metadata": {},
   "source": [
    "# String Operators in Python"
   ]
  },
  {
   "cell_type": "markdown",
   "id": "4883be6d",
   "metadata": {},
   "source": [
    "Single quotes: '"
   ]
  },
  {
   "cell_type": "code",
   "execution_count": null,
   "id": "37c6d213",
   "metadata": {},
   "outputs": [],
   "source": [
    "a = 'Programming'\n",
    "print(a)\n",
    "print(type(a))"
   ]
  },
  {
   "cell_type": "markdown",
   "id": "10ad1a8d",
   "metadata": {},
   "source": [
    "Double quotes:\""
   ]
  },
  {
   "cell_type": "code",
   "execution_count": null,
   "id": "783285e2",
   "metadata": {},
   "outputs": [],
   "source": [
    "b = \"Programming\"\n",
    "print(b)\n",
    "print(type(b))"
   ]
  },
  {
   "cell_type": "markdown",
   "id": "9fd5f384",
   "metadata": {},
   "source": [
    "### Concatenate Operator “+”"
   ]
  },
  {
   "cell_type": "code",
   "execution_count": null,
   "id": "29e98440",
   "metadata": {},
   "outputs": [],
   "source": [
    "string1 = \"Hello, \"\n",
    "string2 = \"Taiwan\"\n",
    "string_combined = string1+string2\n",
    "print(string_combined)"
   ]
  },
  {
   "cell_type": "markdown",
   "id": "e5739e58",
   "metadata": {},
   "source": [
    "### Quotes in strings"
   ]
  },
  {
   "cell_type": "code",
   "execution_count": null,
   "id": "9a51958e",
   "metadata": {},
   "outputs": [],
   "source": [
    "c = \"Hello world!  I am from \"Taiwan\"! \"\n",
    "print(c)"
   ]
  },
  {
   "cell_type": "markdown",
   "id": "fb78b7c8",
   "metadata": {},
   "source": [
    "To insert a non-allowed character in the given input string, an escape character is used. An escape character is a  “backslash” operator and written as \\, followed by a non-allowed character. "
   ]
  },
  {
   "cell_type": "code",
   "execution_count": null,
   "id": "a4cafea6",
   "metadata": {},
   "outputs": [],
   "source": [
    "d = \"Hello world!  I am from \\\"Taiwan\\\"! \"\n",
    "print(d)"
   ]
  },
  {
   "cell_type": "markdown",
   "id": "2b3847f9",
   "metadata": {},
   "source": [
    "### String slicing operator “[]”"
   ]
  },
  {
   "cell_type": "markdown",
   "id": "2f28ca22",
   "metadata": {},
   "source": [
    "<pre>H e l l o , T a i w a  n \n",
    "0 1 2 3 4 5 6 7 8 9 10 11</pre>"
   ]
  },
  {
   "cell_type": "code",
   "execution_count": null,
   "id": "e2309b68",
   "metadata": {},
   "outputs": [],
   "source": [
    "string1 = \"Hello,Taiwan\"\n",
    "print(string1[1]) # Returns a character from a positive index a of the string\n",
    "print(string1[-3]) # Returns a character from a negative index a of the string\n",
    "print(string1[1:5]) # Returns characters from positive index a to positive index b\n",
    "print(string1[2:]) # Returns characters from positive index a to the end of the string.\n",
    "print(string1[:5]) # Returns characters from the start of the string to the positive index b."
   ]
  },
  {
   "cell_type": "markdown",
   "id": "102f5284",
   "metadata": {},
   "source": [
    "### String Comparison Operator “==” & “!=”"
   ]
  },
  {
   "cell_type": "markdown",
   "id": "27a156df",
   "metadata": {},
   "source": [
    "The string comparison operator in python is used to compare two strings.\n",
    "\n",
    "“==” operator returns Boolean True if two strings are the same and return Boolean False if two strings are not the same. <br>\n",
    "“!=” operator returns Boolean True if two strings are not the same and return Boolean False if two strings are the same."
   ]
  },
  {
   "cell_type": "code",
   "execution_count": null,
   "id": "10b1538e",
   "metadata": {},
   "outputs": [],
   "source": [
    "string1 = \"Hello\"\n",
    "string2 = \"Hello, Taiwan\"\n",
    "string3 = \"Hello, Taiwan\"\n",
    "string4 = \"Taiwan\"\n",
    "print(string1==string4)\n",
    "print(string2==string3)\n",
    "print(string1!=string4)\n",
    "print(string2!=string3)"
   ]
  },
  {
   "cell_type": "code",
   "execution_count": null,
   "id": "ea5e3fb6",
   "metadata": {},
   "outputs": [],
   "source": [
    "string5 = \"HELLO, TAIWAN\"\n",
    "string6 = \"hello, taiwan\"\n",
    "print(string5==string6)"
   ]
  },
  {
   "cell_type": "markdown",
   "id": "5f53fb9b",
   "metadata": {},
   "source": [
    "### Membership Operator “in” & “not in”"
   ]
  },
  {
   "cell_type": "markdown",
   "id": "b0ec25c6",
   "metadata": {},
   "source": [
    "Membership operators are used to test if a sequence is presented in a given input python string. <br>\n",
    "\n",
    "<b>“a” in the string:</b> Returns boolean True if “a” is in the string and returns False if “a” is not in the string. <br>\n",
    "<b>“a” not in the string:</b> Returns boolean True if “a” is not in the string and returns False if “a” is in the string. "
   ]
  },
  {
   "cell_type": "code",
   "execution_count": null,
   "id": "bb4f1e40",
   "metadata": {},
   "outputs": [],
   "source": [
    "string1 = \"Hello, Taiwan\"\n",
    "print(\"H\" in string1)\n",
    "print(\"H\" not in string1)\n",
    "print(\"Taiwan\" in string1)\n",
    "print(\"Taiwan\" not in string1)\n",
    "print(\"taiwan\" not in string1)"
   ]
  },
  {
   "cell_type": "code",
   "execution_count": null,
   "id": "c5f14da1",
   "metadata": {},
   "outputs": [],
   "source": [
    "#Insert a newline\n",
    "string1 = \"Business Programming\\n Python\"\n",
    "print(string1)"
   ]
  },
  {
   "cell_type": "code",
   "execution_count": null,
   "id": "ecdb2e1d",
   "metadata": {},
   "outputs": [],
   "source": [
    "#Multiple Lines\n",
    "string2 = \"\"\"Business Programming\n",
    "\n",
    "\n",
    "\n",
    "Python\"\"\"\n",
    "print(string2)"
   ]
  },
  {
   "cell_type": "code",
   "execution_count": null,
   "id": "53639965",
   "metadata": {},
   "outputs": [],
   "source": [
    "#Insert a tab\n",
    "string3=\"\\tThe courses in the undergraduate program include not only the training for integration and application of courses in business knowledge of finance, accounting and strategic thinking, but they also allow students to discover various courses in other fields of study. Combined together with the University’s compulsory social science courses, the program is designed to educate them in society value and ethics as well.\"\n",
    "print(string3)"
   ]
  },
  {
   "cell_type": "code",
   "execution_count": null,
   "id": "867407d2",
   "metadata": {},
   "outputs": [],
   "source": []
  }
 ],
 "metadata": {
  "kernelspec": {
   "display_name": "Python 3 (ipykernel)",
   "language": "python",
   "name": "python3"
  },
  "language_info": {
   "codemirror_mode": {
    "name": "ipython",
    "version": 3
   },
   "file_extension": ".py",
   "mimetype": "text/x-python",
   "name": "python",
   "nbconvert_exporter": "python",
   "pygments_lexer": "ipython3",
   "version": "3.9.12"
  }
 },
 "nbformat": 4,
 "nbformat_minor": 5
}
