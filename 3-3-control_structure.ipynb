{
 "cells": [
  {
   "cell_type": "markdown",
   "id": "ba1f9ee8",
   "metadata": {},
   "source": [
    "### if, else"
   ]
  },
  {
   "cell_type": "code",
   "execution_count": null,
   "id": "ab8c70dd",
   "metadata": {},
   "outputs": [],
   "source": [
    "score=80\n",
    "if(score>60):\n",
    "    print(\"pass!\")"
   ]
  },
  {
   "cell_type": "code",
   "execution_count": null,
   "id": "d467aba8",
   "metadata": {},
   "outputs": [],
   "source": [
    "score=50\n",
    "if(score>60):\n",
    "    print(\"pass!\")\n",
    "else:\n",
    "    print(\"fail!\")"
   ]
  },
  {
   "cell_type": "markdown",
   "id": "1eef20c8",
   "metadata": {},
   "source": [
    "### Try to determine the content entered by the user."
   ]
  },
  {
   "cell_type": "code",
   "execution_count": null,
   "id": "a7174003",
   "metadata": {},
   "outputs": [],
   "source": [
    "score=input(\"Please enter your score!\")\n",
    "if(score>60):\n",
    "    print(\"pass!\")"
   ]
  },
  {
   "cell_type": "markdown",
   "id": "932ab0dd",
   "metadata": {},
   "source": [
    "### Convert the data type of input."
   ]
  },
  {
   "cell_type": "code",
   "execution_count": null,
   "id": "e4454b2d",
   "metadata": {},
   "outputs": [],
   "source": [
    "score=int(input(\"Please enter your score!\"))\n",
    "if(score>=60):\n",
    "    print(\"pass!\")"
   ]
  },
  {
   "cell_type": "markdown",
   "id": "17a41be8",
   "metadata": {},
   "source": [
    "### Let's draw a card. High card wins: if elif else"
   ]
  },
  {
   "cell_type": "code",
   "execution_count": null,
   "id": "5de6de6c",
   "metadata": {},
   "outputs": [],
   "source": [
    "x = input(\"x value:\")\n",
    "y = input(\"y value:\")\n",
    "if x>y:\n",
    "    print(\"x(\" + x + \") is bigger!\")\n",
    "elif x==y:\n",
    "    print(\"Two values(\" + x + \") are equal!\")\n",
    "else:\n",
    "    print(\"y(\" + y + \") is bigger!\")"
   ]
  },
  {
   "cell_type": "markdown",
   "id": "aa23d451",
   "metadata": {},
   "source": [
    "### Perform calculations based on the number entered by the user."
   ]
  },
  {
   "cell_type": "code",
   "execution_count": null,
   "id": "242bfce4",
   "metadata": {},
   "outputs": [],
   "source": [
    "num1 = int(input(\"please enter the first number!\"))\n",
    "num2 = int(input(\"please enter the second number!\"))\n",
    "print(num1+num2)"
   ]
  },
  {
   "cell_type": "markdown",
   "id": "27f6f5c4",
   "metadata": {},
   "source": [
    "### Extract substrings from a string"
   ]
  },
  {
   "cell_type": "code",
   "execution_count": null,
   "id": "95d955e0",
   "metadata": {},
   "outputs": [],
   "source": [
    "birth=input(\"Please enter your date of birth (mmdd).\")\n",
    "m = (birth[0:1])\n",
    "print(m)"
   ]
  },
  {
   "cell_type": "code",
   "execution_count": null,
   "id": "f068c34f",
   "metadata": {},
   "outputs": [],
   "source": [
    "birth=input(\"Please enter your date of birth (mmdd).\")\n",
    "m = (birth[0:2])\n",
    "print(m)"
   ]
  },
  {
   "cell_type": "code",
   "execution_count": null,
   "id": "a85bdd81",
   "metadata": {},
   "outputs": [],
   "source": [
    "birth=input(\"Please enter your date of birth (mmdd).\")\n",
    "m = (birth[1:2])\n",
    "print(m)"
   ]
  },
  {
   "cell_type": "code",
   "execution_count": null,
   "id": "1147ae55",
   "metadata": {},
   "outputs": [],
   "source": [
    "birth=input(\"Please enter your date of birth (mmdd).\")\n",
    "m = (birth[1:3])\n",
    "print(m)"
   ]
  },
  {
   "cell_type": "code",
   "execution_count": null,
   "id": "4a7161cc",
   "metadata": {},
   "outputs": [],
   "source": []
  }
 ],
 "metadata": {
  "kernelspec": {
   "display_name": "Python 3 (ipykernel)",
   "language": "python",
   "name": "python3"
  },
  "language_info": {
   "codemirror_mode": {
    "name": "ipython",
    "version": 3
   },
   "file_extension": ".py",
   "mimetype": "text/x-python",
   "name": "python",
   "nbconvert_exporter": "python",
   "pygments_lexer": "ipython3",
   "version": "3.9.12"
  }
 },
 "nbformat": 4,
 "nbformat_minor": 5
}
