{
 "cells": [
  {
   "cell_type": "markdown",
   "id": "2f8e8c8e",
   "metadata": {},
   "source": [
    "### multiplication table (9*9)"
   ]
  },
  {
   "cell_type": "code",
   "execution_count": null,
   "id": "1bcfcce7",
   "metadata": {},
   "outputs": [],
   "source": [
    "for x in range(1,10):\n",
    "    for y in range(1,10):\n",
    "        print(x*y)"
   ]
  },
  {
   "cell_type": "code",
   "execution_count": null,
   "id": "cd7ed407",
   "metadata": {},
   "outputs": [],
   "source": [
    "for x in range(1,10):\n",
    "    for y in range(1,10):\n",
    "        print(\"\\t\",x*y, end=\" \")"
   ]
  },
  {
   "cell_type": "code",
   "execution_count": null,
   "id": "26cd4fd2",
   "metadata": {},
   "outputs": [],
   "source": [
    "for x in range(1,10):\n",
    "    for y in range(1,10):\n",
    "        if(y==9):\n",
    "            print(\"\\t\", x*y)\n",
    "        else:\n",
    "            print(\"\\t\", x*y, end=\" \")"
   ]
  },
  {
   "cell_type": "code",
   "execution_count": null,
   "id": "90320991",
   "metadata": {},
   "outputs": [],
   "source": [
    "for x in range(1,10):\n",
    "    for y in range(1,10):\n",
    "        if(y==9):\n",
    "            print(\"\\t\", x, \"*\", y, \"=\", x*y)\n",
    "        else:\n",
    "            print(\"\\t\", x, \"*\", y, \"=\", x*y, end=\" \")"
   ]
  },
  {
   "cell_type": "code",
   "execution_count": null,
   "id": "30fee8a4",
   "metadata": {},
   "outputs": [],
   "source": []
  }
 ],
 "metadata": {
  "kernelspec": {
   "display_name": "Python 3 (ipykernel)",
   "language": "python",
   "name": "python3"
  },
  "language_info": {
   "codemirror_mode": {
    "name": "ipython",
    "version": 3
   },
   "file_extension": ".py",
   "mimetype": "text/x-python",
   "name": "python",
   "nbconvert_exporter": "python",
   "pygments_lexer": "ipython3",
   "version": "3.9.13"
  }
 },
 "nbformat": 4,
 "nbformat_minor": 5
}
