{
 "cells": [
  {
   "cell_type": "markdown",
   "id": "49abc824",
   "metadata": {},
   "source": [
    "### Loops in python"
   ]
  },
  {
   "cell_type": "markdown",
   "id": "8686b696",
   "metadata": {},
   "source": [
    "Python provides different types of loops to deal with <b>repeating routines</b>. <br>While all the ways provide <b>similar basic functionality</b>, they differ in their <b>syntax and condition-checking time</b>."
   ]
  },
  {
   "cell_type": "markdown",
   "id": "81224310",
   "metadata": {},
   "source": [
    "### While Loop in Python"
   ]
  },
  {
   "cell_type": "markdown",
   "id": "ef46cdf9",
   "metadata": {},
   "source": [
    "The while loop executes a block of statements repeatedly <b>until</b> a given condition is satisfied (condition is false).<br> And when the condition becomes false, the line immediately after the loop in the program is executed."
   ]
  },
  {
   "cell_type": "code",
   "execution_count": null,
   "id": "0e3e5139",
   "metadata": {},
   "outputs": [],
   "source": [
    "i = 0\n",
    "while (i < 10):\n",
    "    i = i + 1\n",
    "    print(i)"
   ]
  },
  {
   "cell_type": "markdown",
   "id": "564becfe",
   "metadata": {},
   "source": [
    "present the number in a same line"
   ]
  },
  {
   "cell_type": "code",
   "execution_count": null,
   "id": "3eee0e43",
   "metadata": {},
   "outputs": [],
   "source": [
    "i = 0\n",
    "while (i < 10):\n",
    "    i = i + 1\n",
    "    if i!=10:\n",
    "        print(i, end=\"-\")\n",
    "    else:\n",
    "        print(i, end=\"\")"
   ]
  },
  {
   "cell_type": "code",
   "execution_count": null,
   "id": "5eb41e85",
   "metadata": {},
   "outputs": [],
   "source": [
    "count = 0\n",
    "while (count < 3):\n",
    "    count = count + 1\n",
    "    print(count)\n",
    "    print(\"Hello NCKU\")"
   ]
  },
  {
   "cell_type": "markdown",
   "id": "516be407",
   "metadata": {},
   "source": [
    "a never ending infinite loop "
   ]
  },
  {
   "cell_type": "code",
   "execution_count": null,
   "id": "1e0d5878",
   "metadata": {},
   "outputs": [],
   "source": [
    "count = 0\n",
    "while (count == 0):\n",
    "    print(\"Hello NCKU\")\n",
    "#A never-ending infinite loop where the condition is always true that we have to forcefully terminate the compiler."
   ]
  },
  {
   "cell_type": "markdown",
   "id": "b3a6da8d",
   "metadata": {},
   "source": [
    "### For Loop in Python"
   ]
  },
  {
   "cell_type": "markdown",
   "id": "6d2d3e93",
   "metadata": {},
   "source": [
    "For loops are used for sequential traversal. For example: traversing a list or string or array etc. In Python, there is “for in” loop. "
   ]
  },
  {
   "cell_type": "code",
   "execution_count": null,
   "id": "0c93e330",
   "metadata": {},
   "outputs": [],
   "source": [
    "for i in range(1, 10):\n",
    "    print(i)"
   ]
  },
  {
   "cell_type": "markdown",
   "id": "4bef1c28",
   "metadata": {},
   "source": [
    "The range() function returns a sequence of numbers, <b>starting from 0 by default</b>, and <b>increments by 1 (by default)</b>, and <b>stops before a specified number</b>. <br><br>\n",
    "<I>range(start, stop, step)</I>\n"
   ]
  },
  {
   "cell_type": "code",
   "execution_count": null,
   "id": "94d8ef25",
   "metadata": {},
   "outputs": [],
   "source": [
    "x = range(1, 10, 2)\n",
    "for y in x:\n",
    "  print(y)"
   ]
  },
  {
   "cell_type": "markdown",
   "id": "58f5f49a",
   "metadata": {},
   "source": [
    "### Example with List, Tuple, and Set iteration using For Loops."
   ]
  },
  {
   "cell_type": "markdown",
   "id": "51e67c52",
   "metadata": {},
   "source": [
    "List Iteration"
   ]
  },
  {
   "cell_type": "code",
   "execution_count": null,
   "id": "ff020920",
   "metadata": {},
   "outputs": [],
   "source": [
    "lotterylist = [12,36,23,7,5,16]\n",
    "for i in lotterylist:\n",
    "    print(i)"
   ]
  },
  {
   "cell_type": "code",
   "execution_count": null,
   "id": "a13f22c5",
   "metadata": {},
   "outputs": [],
   "source": [
    "print(lotterylist[1])"
   ]
  },
  {
   "cell_type": "code",
   "execution_count": null,
   "id": "cd32b464",
   "metadata": {},
   "outputs": [],
   "source": [
    "lotterylen = len(lotterylist)\n",
    "for j in range(lotterylen):\n",
    "    print(j)"
   ]
  },
  {
   "cell_type": "code",
   "execution_count": null,
   "id": "f39f0e8c",
   "metadata": {},
   "outputs": [],
   "source": [
    "for j in range(lotterylen):\n",
    "    print(lotterylist[j])"
   ]
  },
  {
   "cell_type": "code",
   "execution_count": null,
   "id": "3faf193c",
   "metadata": {},
   "outputs": [],
   "source": [
    "print(\"List Iteration\")\n",
    "lotterylist = [12,36,23,7,5,16]\n",
    "for i in lotterylist:\n",
    "    print(i)\n",
    "\n",
    "print(\"\\nTuple Iteration\")\n",
    "lotterytuple = (12,36,23,7,5,16)\n",
    "for i in lotterytuple:\n",
    "    print(i)\n",
    " \n",
    "\n",
    "print(\"\\nSet Iteration\")\n",
    "lotteryset = {12,36,23,7,5,16}\n",
    "for i in lotteryset:\n",
    "    print(i),"
   ]
  },
  {
   "cell_type": "markdown",
   "id": "58e28d9d",
   "metadata": {},
   "source": [
    "break"
   ]
  },
  {
   "cell_type": "code",
   "execution_count": null,
   "id": "e2c8eb4c",
   "metadata": {},
   "outputs": [],
   "source": [
    "for i in range(1,10):\n",
    "    if(i==5):\n",
    "        break\n",
    "    print(i)"
   ]
  },
  {
   "cell_type": "markdown",
   "id": "4cd912eb",
   "metadata": {},
   "source": [
    "continue"
   ]
  },
  {
   "cell_type": "code",
   "execution_count": null,
   "id": "c0eebcda",
   "metadata": {},
   "outputs": [],
   "source": [
    "for i in range(1,10):\n",
    "    if(i==5):\n",
    "        continue\n",
    "    print(i)"
   ]
  }
 ],
 "metadata": {
  "kernelspec": {
   "display_name": "Python 3 (ipykernel)",
   "language": "python",
   "name": "python3"
  },
  "language_info": {
   "codemirror_mode": {
    "name": "ipython",
    "version": 3
   },
   "file_extension": ".py",
   "mimetype": "text/x-python",
   "name": "python",
   "nbconvert_exporter": "python",
   "pygments_lexer": "ipython3",
   "version": "3.9.13"
  }
 },
 "nbformat": 4,
 "nbformat_minor": 5
}
