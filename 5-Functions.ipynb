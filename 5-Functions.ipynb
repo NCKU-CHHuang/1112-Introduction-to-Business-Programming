{
 "cells": [
  {
   "cell_type": "markdown",
   "id": "fa9103c7",
   "metadata": {},
   "source": [
    "### Functions"
   ]
  },
  {
   "cell_type": "markdown",
   "id": "ada9a400",
   "metadata": {},
   "source": [
    "A function is a block of code that performs a specific task."
   ]
  },
  {
   "cell_type": "code",
   "execution_count": null,
   "id": "64d1207d",
   "metadata": {},
   "outputs": [],
   "source": [
    "def function_name(arguments):\n",
    "    # function body \n",
    "\n",
    "    return"
   ]
  },
  {
   "cell_type": "markdown",
   "id": "7697c62c",
   "metadata": {},
   "source": [
    "<li><b>def </b>- keyword used to declare a function </li>\n",
    "<li><b>function_name</b> - any name given to the function</li>\n",
    "<li><b>arguments</b> - any value passed to function</li>\n",
    "<li><b>return (optional) </b>- returns value from a function</li>"
   ]
  },
  {
   "cell_type": "code",
   "execution_count": null,
   "id": "b204f929",
   "metadata": {},
   "outputs": [],
   "source": [
    "def greet():\n",
    "    print('Hello, Tainan!')"
   ]
  },
  {
   "cell_type": "code",
   "execution_count": null,
   "id": "b9eeb7b8",
   "metadata": {},
   "outputs": [],
   "source": [
    "greet()"
   ]
  },
  {
   "cell_type": "markdown",
   "id": "b96c0308",
   "metadata": {},
   "source": [
    "Information can be passed into functions as arguments."
   ]
  },
  {
   "cell_type": "code",
   "execution_count": null,
   "id": "b23ce9d9",
   "metadata": {},
   "outputs": [],
   "source": [
    "def greet(name):\n",
    "  print(\"Hello, \" + name)\n",
    "\n",
    "greet(\"Anson\")"
   ]
  },
  {
   "cell_type": "markdown",
   "id": "1f76430b",
   "metadata": {},
   "source": [
    "You can add as many arguments as you want, just separate them with a comma."
   ]
  },
  {
   "cell_type": "code",
   "execution_count": null,
   "id": "5d405af6",
   "metadata": {},
   "outputs": [],
   "source": [
    "def info(school, name):\n",
    "  print(\"Hello, \" + school + \"-\" + name)\n",
    "\n",
    "info(\"NCKU\", \"Anson\")"
   ]
  },
  {
   "cell_type": "code",
   "execution_count": null,
   "id": "b34bf784",
   "metadata": {},
   "outputs": [],
   "source": [
    "def add_numbers(num1, num2):\n",
    "    sum = num1 + num2\n",
    "    print(\"Sum: \",sum)\n",
    "    \n",
    "add_numbers(5,10)"
   ]
  },
  {
   "cell_type": "markdown",
   "id": "4ba81e70",
   "metadata": {},
   "source": [
    "If the number of arguments is unknown, add a * before the parameter name:"
   ]
  },
  {
   "cell_type": "code",
   "execution_count": null,
   "id": "592f5076",
   "metadata": {},
   "outputs": [],
   "source": [
    "def your_children(*child):\n",
    "  print(\"The youngest child is \" + child[2])\n",
    "\n",
    "your_children(\"Ben\", \"Tom\", \"Linda\")"
   ]
  },
  {
   "cell_type": "markdown",
   "id": "f8809f91",
   "metadata": {},
   "source": [
    "A Python function may or may not return a value. If we want our function to return some value to a function call, we use the return statement. "
   ]
  },
  {
   "cell_type": "code",
   "execution_count": null,
   "id": "30ba5c31",
   "metadata": {},
   "outputs": [],
   "source": [
    "def find_square(num):\n",
    "    result = num * num\n",
    "    return result\n",
    "\n",
    "square = find_square(3)\n",
    "\n",
    "print('Square:',square)"
   ]
  },
  {
   "cell_type": "markdown",
   "id": "d0f6e47d",
   "metadata": {},
   "source": [
    "Suppose we want to calculate the following equation through an <b>addition function</b>: <br>\n",
    "(5+2) * (8+6)"
   ]
  },
  {
   "cell_type": "code",
   "execution_count": null,
   "id": "6362eda9",
   "metadata": {},
   "outputs": [],
   "source": [
    "def addition(num1,num2):\n",
    "    result = num1+num2\n",
    "    return result\n",
    "\n",
    "ans = addition(5,2)*addition(8,6)\n",
    "print('result: ' + str(ans))"
   ]
  },
  {
   "cell_type": "code",
   "execution_count": null,
   "id": "21d15b03",
   "metadata": {},
   "outputs": [],
   "source": [
    "def fibonacci(n):\n",
    "    if n==1:\n",
    "        return 1\n",
    "    elif n==2:\n",
    "        return 1\n",
    "    elif n >2:\n",
    "        return fibonacci(n-1) + fibonacci(n-2)"
   ]
  },
  {
   "cell_type": "code",
   "execution_count": null,
   "id": "57d306c4",
   "metadata": {},
   "outputs": [],
   "source": [
    "fibonacci(5)"
   ]
  },
  {
   "cell_type": "code",
   "execution_count": null,
   "id": "ca787bdb",
   "metadata": {},
   "outputs": [],
   "source": [
    "for n in range(1,11):\n",
    "    print(n, \":\" , fibonacci(n))"
   ]
  },
  {
   "cell_type": "code",
   "execution_count": null,
   "id": "c1529d21",
   "metadata": {},
   "outputs": [],
   "source": [
    "for n in range(1,101):\n",
    "    print(n, \":\" , fibonacci(n))"
   ]
  },
  {
   "cell_type": "code",
   "execution_count": null,
   "id": "185ffd3d",
   "metadata": {},
   "outputs": [],
   "source": [
    "import functools\n",
    "\n",
    "@functools.lru_cache()\n",
    "def fibonacci(n):\n",
    "    if n==1:\n",
    "        return 1\n",
    "    elif n==2:\n",
    "        return 1\n",
    "    elif n >2:\n",
    "        return fibonacci(n-1) + fibonacci(n-2)\n",
    "\n",
    "for i in range(1,101):\n",
    "    print(i, \":\" , fibonacci(i) )"
   ]
  },
  {
   "cell_type": "code",
   "execution_count": null,
   "id": "2b0e0025",
   "metadata": {},
   "outputs": [],
   "source": []
  }
 ],
 "metadata": {
  "kernelspec": {
   "display_name": "Python 3 (ipykernel)",
   "language": "python",
   "name": "python3"
  },
  "language_info": {
   "codemirror_mode": {
    "name": "ipython",
    "version": 3
   },
   "file_extension": ".py",
   "mimetype": "text/x-python",
   "name": "python",
   "nbconvert_exporter": "python",
   "pygments_lexer": "ipython3",
   "version": "3.9.12"
  }
 },
 "nbformat": 4,
 "nbformat_minor": 5
}
