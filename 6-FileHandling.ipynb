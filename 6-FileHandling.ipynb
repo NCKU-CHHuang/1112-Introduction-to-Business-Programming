{
 "cells": [
  {
   "cell_type": "markdown",
   "id": "831b7d85",
   "metadata": {},
   "source": [
    "### Directory Handling"
   ]
  },
  {
   "cell_type": "markdown",
   "id": "191cd989",
   "metadata": {},
   "source": [
    "Create a new directory on the file system."
   ]
  },
  {
   "cell_type": "code",
   "execution_count": null,
   "id": "cf3ee9ed",
   "metadata": {},
   "outputs": [],
   "source": [
    "import os\n",
    "os.mkdir(\"myDir\")"
   ]
  },
  {
   "cell_type": "markdown",
   "id": "9fd5b2b9",
   "metadata": {},
   "source": [
    "create a new directory if the directory not exists"
   ]
  },
  {
   "cell_type": "code",
   "execution_count": null,
   "id": "d4301ba9",
   "metadata": {},
   "outputs": [],
   "source": [
    "import os\n",
    "dir=\"myDir\"\n",
    "if os.path.exists(dir):\n",
    "    print(dir + \"- directory already exists \")\n",
    "else:\n",
    "    os.mkdir(dir)"
   ]
  },
  {
   "cell_type": "markdown",
   "id": "ff5f7e53",
   "metadata": {},
   "source": [
    "Delete it if the dictionary exists"
   ]
  },
  {
   "cell_type": "code",
   "execution_count": null,
   "id": "c80a1e58",
   "metadata": {},
   "outputs": [],
   "source": [
    "import os\n",
    "dir=\"myDir\"\n",
    "if os.path.exists(dir):\n",
    "    os.rmdir(dir)\n",
    "    print(dir + \"- directory already be deleted.\")\n",
    "else:\n",
    "    os.mkdir(dir)\n",
    "    print(dir + \"- directory already be created.\")"
   ]
  },
  {
   "cell_type": "markdown",
   "id": "0c077480",
   "metadata": {},
   "source": [
    "### File Handling"
   ]
  },
  {
   "cell_type": "code",
   "execution_count": null,
   "id": "3b86bb0d",
   "metadata": {},
   "outputs": [],
   "source": [
    "import os\n",
    "file = \"myFile.txt\"\n",
    "if os.path.exists(file):\n",
    "    os.remove(file)\n",
    "else:\n",
    "    print(file + \" does not exist.\")"
   ]
  },
  {
   "cell_type": "code",
   "execution_count": null,
   "id": "e8dd3401",
   "metadata": {},
   "outputs": [],
   "source": [
    "f = open(\"text.txt\", \"r\")\n",
    "f.close()"
   ]
  },
  {
   "cell_type": "code",
   "execution_count": null,
   "id": "f98926db",
   "metadata": {},
   "outputs": [],
   "source": [
    "f = open(\"text.txt\", \"r\")\n",
    "print(f.read())\n",
    "f.close()"
   ]
  },
  {
   "cell_type": "code",
   "execution_count": null,
   "id": "113cc5ac",
   "metadata": {},
   "outputs": [],
   "source": [
    "f = open(\"text2.txt\",\"w\")\n",
    "f.close()"
   ]
  },
  {
   "cell_type": "code",
   "execution_count": null,
   "id": "f4f6239b",
   "metadata": {},
   "outputs": [],
   "source": [
    "f=open(\"folder/text2.txt\",\"r\")\n",
    "myfile = f.read()\n",
    "print(myfile)"
   ]
  },
  {
   "cell_type": "markdown",
   "id": "3220a893",
   "metadata": {},
   "source": [
    "You can return one line by using the readline() method:"
   ]
  },
  {
   "cell_type": "code",
   "execution_count": null,
   "id": "cacbd076",
   "metadata": {},
   "outputs": [],
   "source": [
    "f=open(\"folder/text2.txt\",\"r\")\n",
    "myfile = f.readline()\n",
    "print(myfile)"
   ]
  },
  {
   "cell_type": "markdown",
   "id": "ba5be9de",
   "metadata": {},
   "source": [
    "By looping through the lines of the file, you can read the whole file, line by line:"
   ]
  },
  {
   "cell_type": "code",
   "execution_count": null,
   "id": "cbc0248b",
   "metadata": {},
   "outputs": [],
   "source": [
    "f=open(\"folder/text2.txt\",\"r\")\n",
    "for myline in f:\n",
    "    print(myline)"
   ]
  },
  {
   "cell_type": "code",
   "execution_count": null,
   "id": "4641196a",
   "metadata": {},
   "outputs": [],
   "source": [
    "f=open(\"folder/text2.txt\",\"r\")\n",
    "for myline in f:\n",
    "    print(myline, end=\"\")"
   ]
  },
  {
   "cell_type": "markdown",
   "id": "b57e1e59",
   "metadata": {},
   "source": [
    "### Read Only Parts of the File"
   ]
  },
  {
   "cell_type": "code",
   "execution_count": null,
   "id": "75b3adef",
   "metadata": {},
   "outputs": [],
   "source": [
    "f=open(\"text2.txt\",\"r\")\n",
    "print(f.read(100))\n",
    "f.close()"
   ]
  },
  {
   "cell_type": "markdown",
   "id": "0b74c8ee",
   "metadata": {},
   "source": [
    "### The write() method:"
   ]
  },
  {
   "cell_type": "markdown",
   "id": "28f4a4b2",
   "metadata": {},
   "source": [
    "This function inserts the string into the text file on a single line."
   ]
  },
  {
   "cell_type": "code",
   "execution_count": null,
   "id": "a9db9ecb",
   "metadata": {},
   "outputs": [],
   "source": [
    "f=open(\"text3.txt\",\"w\")\n",
    "f.write(\"text3 is here.\")\n",
    "f.close()"
   ]
  },
  {
   "cell_type": "markdown",
   "id": "560a4baa",
   "metadata": {},
   "source": [
    "### Copy File A to File B"
   ]
  },
  {
   "cell_type": "code",
   "execution_count": null,
   "id": "06590c9e",
   "metadata": {},
   "outputs": [],
   "source": [
    "rf = open(\"text4.txt\", \"r\")\n",
    "wf = open(\"text5.txt\", \"w\")\n",
    "for line in rf:\n",
    "    wf.write(line)\n",
    "rf.close()\n",
    "wf.close()"
   ]
  },
  {
   "cell_type": "markdown",
   "id": "f08afe9b",
   "metadata": {},
   "source": [
    "### Copy a picture"
   ]
  },
  {
   "cell_type": "code",
   "execution_count": null,
   "id": "95766c47",
   "metadata": {},
   "outputs": [],
   "source": [
    "rf=open(\"poppy.jpg\",\"r\")\n",
    "wf=open(\"poppy-coppy.jpg\",\"w\")\n",
    "for line in rf:\n",
    "    wf.write(line)"
   ]
  },
  {
   "cell_type": "code",
   "execution_count": null,
   "id": "c24beed3",
   "metadata": {},
   "outputs": [],
   "source": [
    "rf=open(\"poppy.jpg\",\"rb\")\n",
    "wf=open(\"poppy-coppy.jpg\",\"wb\")\n",
    "for line in rf:\n",
    "    wf.write(line)"
   ]
  },
  {
   "cell_type": "code",
   "execution_count": null,
   "id": "fd916cba",
   "metadata": {},
   "outputs": [],
   "source": []
  }
 ],
 "metadata": {
  "kernelspec": {
   "display_name": "Python 3 (ipykernel)",
   "language": "python",
   "name": "python3"
  },
  "language_info": {
   "codemirror_mode": {
    "name": "ipython",
    "version": 3
   },
   "file_extension": ".py",
   "mimetype": "text/x-python",
   "name": "python",
   "nbconvert_exporter": "python",
   "pygments_lexer": "ipython3",
   "version": "3.9.12"
  }
 },
 "nbformat": 4,
 "nbformat_minor": 5
}
